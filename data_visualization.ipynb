{
 "cells": [
  {
   "metadata": {},
   "cell_type": "markdown",
   "source": [
    "# Jupyter notebook sample"
   ],
   "id": "8a77807f92f26ee"
  },
  {
   "metadata": {},
   "cell_type": "code",
   "source": [
    "import csv\n",
    "\n",
    "import warnings\n",
    "# Import libraries\n",
    "import pandas as pd\n",
    "import matplotlib.pyplot as plt\n",
    "import numpy as np\n",
    "import seaborn as sb\n",
    "from sklearn.preprocessing import StandardScaler\n",
    "from sklearn.decomposition import PCA\n",
    "\n",
    "warnings.filterwarnings('ignore')"
   ],
   "id": "7df9140457caed5e",
   "outputs": [],
   "execution_count": null
  },
  {
   "metadata": {},
   "cell_type": "markdown",
   "source": [
    "### Import data\n",
    "\n",
    "# Read data from a csv file"
   ],
   "id": "2e44cfe2f556cba1"
  },
  {
   "metadata": {
    "collapsed": true
   },
   "cell_type": "code",
   "source": [
    "# Defining data for the dataframe\n",
    "# download from https://www.kaggle.com/datasets/supplejade/bccc-cira-cic-dohbrw-2020-dns-over-http/download?datasetVersionNumber=2\n",
    "# and unzip it to data folder\n",
    "\n",
    "df = pd.read_csv('data/BCCC-CIRA-CIC-DoHBrw-2020.csv', na_values=['NA'])\n",
    "\n",
    "def add_space(s):\n",
    "    a = s[0]\n",
    "    for i in s[1:]:\n",
    "        if i.isupper():\n",
    "            a += ' '\n",
    "        a += i\n",
    "    return a\n",
    "\n",
    "df.columns = [add_space(i.replace(' ', '')) for i in df.columns]\n",
    "\n",
    "df.describe()"
   ],
   "id": "initial_id",
   "outputs": [],
   "execution_count": null
  },
  {
   "metadata": {},
   "cell_type": "markdown",
   "source": [
    "## Data visualization\n",
    "#### Histogram of the PCA data\n"
   ],
   "id": "6a438b3c0400ee2"
  },
  {
   "metadata": {
    "ExecuteTime": {
     "end_time": "2024-04-23T20:41:44.033574Z",
     "start_time": "2024-04-23T20:41:43.175433Z"
    }
   },
   "cell_type": "code",
   "source": [
    "df_subset = df.iloc[:1000, :]\n",
    "df_subset.replace([np.inf, -np.inf], np.nan)\n",
    "\n",
    "# 28 columns\n",
    "fig = plt.figure(figsize=(30, 30))\n",
    "\n",
    "for i in df_subset.columns[:-1]:\n",
    "    plt.subplot(4,7, list(df_subset.columns).index(i) + 1)\n",
    "    sb.kdeplot(data=df_subset, x=i, hue='Label', fill=True)\n",
    "    \n",
    "plt.show()\n",
    "    "
   ],
   "id": "990a541564843926",
   "outputs": [
    {
     "ename": "NameError",
     "evalue": "name 'df' is not defined",
     "output_type": "error",
     "traceback": [
      "\u001B[1;31m---------------------------------------------------------------------------\u001B[0m",
      "\u001B[1;31mNameError\u001B[0m                                 Traceback (most recent call last)",
      "Cell \u001B[1;32mIn[1], line 1\u001B[0m\n\u001B[1;32m----> 1\u001B[0m df_subset \u001B[38;5;241m=\u001B[39m df\u001B[38;5;241m.\u001B[39miloc[:\u001B[38;5;241m1000\u001B[39m, :]\n\u001B[0;32m      2\u001B[0m df_subset\u001B[38;5;241m.\u001B[39mreplace([np\u001B[38;5;241m.\u001B[39minf, \u001B[38;5;241m-\u001B[39mnp\u001B[38;5;241m.\u001B[39minf], np\u001B[38;5;241m.\u001B[39mnan)\n\u001B[0;32m      4\u001B[0m \u001B[38;5;66;03m# 28 columns\u001B[39;00m\n",
      "\u001B[1;31mNameError\u001B[0m: name 'df' is not defined"
     ]
    }
   ],
   "execution_count": 1
  },
  {
   "metadata": {},
   "cell_type": "markdown",
   "source": [
    "### Create a PairPlot for each parameter\n",
    "This will save the graphs to the plots path"
   ],
   "id": "d4798919541a01e4"
  },
  {
   "metadata": {},
   "cell_type": "code",
   "source": [
    "palette = sb.color_palette(\"tab10\", n_colors=2)  # Choose a suitable palette\n",
    "colormap = sb.color_palette(\"tab10\", as_cmap=True)  # Get the colormap\n",
    "\n",
    "# Convert the colormap to a list of colors\n",
    "colors = [colormap(i) for i in range(len(palette))]\n",
    "\n",
    "for i in df_subset.columns[:-1]:\n",
    "    fig = plt.figure(figsize=(16, 7*3+1))\n",
    "    plt.title(i)\n",
    "    \n",
    "    for j in df_subset.columns[:-1]:\n",
    "        \n",
    "        plt.subplot(7,4, list(df_subset.columns).index(j) + 1)\n",
    "        if i == j:\n",
    "            sb.kdeplot(data=df_subset, x=i, hue='Label', fill=True, palette=colors)\n",
    "        else:\n",
    "            sb.scatterplot(data=df_subset, x=i, y=j, hue='Label', palette=colors)\n",
    "    \n",
    "    print(f'Done with {i}')\n",
    "    plt.tight_layout()\n",
    "    \n",
    "    handles, labels = plt.gca().get_legend_handles_labels()\n",
    "    plt.figlegend(handles, labels, loc='lower center', ncol=len(colors), title='Label', bbox_to_anchor=(0.5, -0.02))\n",
    "    plt.tight_layout()\n",
    "    \n",
    "    plt.savefig(f'plots/{i}.png')\n",
    "    plt.close()"
   ],
   "id": "605a5fa386a2645b",
   "outputs": [],
   "execution_count": null
  },
  {
   "metadata": {},
   "cell_type": "code",
   "outputs": [],
   "execution_count": null,
   "source": "data_pca = pd.read_csv(\"data/data_pca.csv\")",
   "id": "4fc63d09e7a3dfb4"
  },
  {
   "metadata": {},
   "cell_type": "markdown",
   "source": "### Histogram of the PCA data",
   "id": "d15133c54aff4bf3"
  },
  {
   "metadata": {},
   "cell_type": "code",
   "source": [
    "g = sb.PairGrid(data_pca.iloc[:1000][:], hue=\"Label\")\n",
    "g.map_diag(plt.hist)\n",
    "g.map_lower(plt.scatter)\n",
    "g.map_upper(sb.kdeplot)\n",
    "\n",
    "g.add_legend()\n",
    "\n",
    "for ax in g.axes.flatten():\n",
    "    # rotate x axis labels\n",
    "    ax.set_xlabel(ax.get_xlabel(), rotation = 90)\n",
    "    # rotate y axis labels\n",
    "    ax.set_ylabel(ax.get_ylabel(), rotation = 0)\n",
    "    # set y labels alignment\n",
    "    ax.yaxis.get_label().set_horizontalalignment('right')\n",
    "\n",
    "plt.show()"
   ],
   "id": "751476806823f199",
   "outputs": [],
   "execution_count": null
  },
  {
   "metadata": {},
   "cell_type": "markdown",
   "source": "### Correlation Matrix",
   "id": "242377b328b39fe5"
  },
  {
   "metadata": {},
   "cell_type": "code",
   "outputs": [],
   "execution_count": null,
   "source": [
    "X = df.iloc[:, :28]\n",
    "y = df.iloc[:, 28]\n",
    "\n",
    "correlation_matrix = X.corr()\n",
    "\n",
    "plt.figure(figsize=(10, 8))\n",
    "sb.heatmap(correlation_matrix, annot=True, fmt=\".2f\", cmap='coolwarm')\n",
    "plt.title('Feature Correlation Matrix')\n",
    "plt.show()"
   ],
   "id": "5cfc3ec153fb4f62"
  }
 ],
 "metadata": {
  "kernelspec": {
   "display_name": "Python 3",
   "language": "python",
   "name": "python3"
  },
  "language_info": {
   "codemirror_mode": {
    "name": "ipython",
    "version": 2
   },
   "file_extension": ".py",
   "mimetype": "text/x-python",
   "name": "python",
   "nbconvert_exporter": "python",
   "pygments_lexer": "ipython2",
   "version": "2.7.6"
  }
 },
 "nbformat": 4,
 "nbformat_minor": 5
}
