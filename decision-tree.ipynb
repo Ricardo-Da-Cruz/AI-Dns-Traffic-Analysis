{
 "cells": [
  {
   "metadata": {},
   "cell_type": "markdown",
   "source": [
    "### Decision Tree\n",
    "## Normal dataset"
   ],
   "id": "a147ec50cbf49cfb"
  },
  {
   "cell_type": "code",
   "id": "initial_id",
   "metadata": {
    "collapsed": true
   },
   "source": [
    "import pandas as pd\n",
    "\n",
    "test_size = 0.25\n",
    "\n",
    "data = pd.read_csv('data/BCCC-CIRA-CIC-DoHBrw-2020.csv')\n",
    "\n",
    "data.describe()"
   ],
   "outputs": [],
   "execution_count": null
  },
  {
   "metadata": {},
   "cell_type": "code",
   "source": [
    "from sklearn.model_selection import train_test_split\n",
    "\n",
    "all_inputs = data.iloc[:, :28]\n",
    "all_labels = data.loc[:, 'Label']\n",
    "\n",
    "(training_inputs,\n",
    " testing_inputs,\n",
    " training_classes,\n",
    " testing_classes) = train_test_split(all_inputs, all_labels, test_size=test_size, random_state=1)"
   ],
   "id": "1b2c69d7c8b703b4",
   "outputs": [],
   "execution_count": null
  },
  {
   "metadata": {},
   "cell_type": "code",
   "source": [
    "import matplotlib.pyplot as plt\n",
    "from sklearn.tree import DecisionTreeClassifier\n",
    "from sklearn.tree import plot_tree\n",
    "from sklearn.metrics import confusion_matrix\n",
    "\n",
    "decision_tree_classifier = DecisionTreeClassifier()\n",
    "\n",
    "decision_tree_classifier.fit(training_inputs, training_classes)\n",
    "\n",
    "print(decision_tree_classifier.score(testing_inputs, testing_classes))\n",
    "\n",
    "predictions = decision_tree_classifier.predict(testing_inputs)\n",
    "\n",
    "conf_matrix = confusion_matrix(testing_classes, predictions)\n",
    "\n",
    "print(\"True Negatives (TN):\", conf_matrix[0, 0])\n",
    "print(\"True Positives (TP):\", conf_matrix[1, 1])\n",
    "print(\"False Negatives (FN):\", conf_matrix[1, 0])\n",
    "print(\"False Positives (FP):\", conf_matrix[0, 1])\n",
    "\n",
    "# Visualize the tree\n",
    "plt.figure(figsize=(30, 30))\n",
    "plot_tree(decision_tree_classifier, filled=True, feature_names=all_inputs.columns)\n",
    "plt.show()"
   ],
   "id": "c6276f14a89c262c",
   "outputs": [],
   "execution_count": null
  },
  {
   "metadata": {},
   "cell_type": "markdown",
   "source": "## PCA dataset",
   "id": "3db371b31319cf2e"
  },
  {
   "metadata": {},
   "cell_type": "code",
   "source": "data_pca = pd.read_csv(\"data/data_pca.csv\")",
   "id": "50704a1dd899ee4d",
   "outputs": [],
   "execution_count": null
  },
  {
   "metadata": {},
   "cell_type": "code",
   "source": [
    "all_inputs_pca = data_pca.iloc[:, :9]\n",
    "all_labels_pca = data_pca.loc[:, 'Label']\n",
    "\n",
    "(training_inputs,\n",
    " testing_inputs,\n",
    " training_classes,\n",
    " testing_classes) = train_test_split(all_inputs_pca, all_labels_pca, test_size=test_size, random_state=1)"
   ],
   "id": "61260df4e340df4f",
   "outputs": [],
   "execution_count": null
  },
  {
   "metadata": {},
   "cell_type": "code",
   "source": [
    "import matplotlib.pyplot as plt\n",
    "from sklearn.tree import DecisionTreeClassifier\n",
    "from sklearn.tree import plot_tree\n",
    "from sklearn.metrics import confusion_matrix\n",
    "\n",
    "decision_tree_classifier = DecisionTreeClassifier()\n",
    "\n",
    "decision_tree_classifier.fit(training_inputs, training_classes)\n",
    "\n",
    "print(decision_tree_classifier.score(testing_inputs, testing_classes))\n",
    "\n",
    "predictions = decision_tree_classifier.predict(testing_inputs)\n",
    "\n",
    "conf_matrix = confusion_matrix(testing_classes, predictions)\n",
    "\n",
    "print(\"True Negatives (TN):\", conf_matrix[0, 0])\n",
    "print(\"True Positives (TP):\", conf_matrix[1, 1])\n",
    "print(\"False Negatives (FN):\", conf_matrix[1, 0])\n",
    "print(\"False Positives (FP):\", conf_matrix[0, 1])\n",
    "\n",
    "plt.figure(figsize=(30, 30))\n",
    "plot_tree(decision_tree_classifier, filled=True)\n",
    "plt.show()  "
   ],
   "id": "151f1c4d755b16d6",
   "outputs": [],
   "execution_count": null
  }
 ],
 "metadata": {
  "kernelspec": {
   "display_name": "Python 3",
   "language": "python",
   "name": "python3"
  },
  "language_info": {
   "codemirror_mode": {
    "name": "ipython",
    "version": 2
   },
   "file_extension": ".py",
   "mimetype": "text/x-python",
   "name": "python",
   "nbconvert_exporter": "python",
   "pygments_lexer": "ipython2",
   "version": "2.7.6"
  }
 },
 "nbformat": 4,
 "nbformat_minor": 5
}
