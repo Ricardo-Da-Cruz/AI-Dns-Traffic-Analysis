{
 "cells": [
  {
   "cell_type": "code",
   "id": "initial_id",
   "metadata": {
    "collapsed": true,
    "ExecuteTime": {
     "end_time": "2024-04-23T20:23:33.651828Z",
     "start_time": "2024-04-23T20:23:33.355658Z"
    }
   },
   "source": [
    "from sklearn.model_selection import KFold, cross_val_score, train_test_split\n",
    "from sklearn.ensemble import ExtraTreesClassifier, BaggingClassifier, AdaBoostClassifier, RandomForestClassifier, GradientBoostingClassifier\n",
    "from sklearn.neighbors import KNeighborsClassifier\n",
    "from sklearn.discriminant_analysis import LinearDiscriminantAnalysis, QuadraticDiscriminantAnalysis\n",
    "from sklearn.linear_model import LogisticRegression, SGDClassifier\n",
    "from sklearn.naive_bayes import GaussianNB\n",
    "from sklearn.neural_network import MLPClassifier\n",
    "from sklearn.tree import DecisionTreeClassifier\n",
    "from catboost import CatBoostClassifier\n",
    "import re\n",
    "import pandas as pd\n",
    "from time import time\n",
    "from matplotlib import pyplot as plt\n",
    "import cupy as cp\n"
   ],
   "outputs": [],
   "execution_count": 1
  },
  {
   "metadata": {
    "ExecuteTime": {
     "end_time": "2024-04-23T20:23:35.156673Z",
     "start_time": "2024-04-23T20:23:33.652836Z"
    }
   },
   "cell_type": "code",
   "source": [
    "test_size = 0.25\n",
    "\n",
    "data = pd.read_csv('data/BCCC-CIRA-CIC-DoHBrw-2020.csv')\n",
    "\n",
    "all_inputs = data.iloc[:, :28]\n",
    "all_labels = data.loc[:, 'Label']"
   ],
   "id": "5bdbd9f3a1e19f40",
   "outputs": [],
   "execution_count": 2
  },
  {
   "metadata": {
    "ExecuteTime": {
     "end_time": "2024-04-23T20:23:35.821405Z",
     "start_time": "2024-04-23T20:23:35.156673Z"
    }
   },
   "cell_type": "code",
   "source": [
    "data_pca = pd.read_csv('data/data_pca.csv')\n",
    "\n",
    "all_inputs_pca = data_pca.iloc[:, :9]\n",
    "all_labels_pca = data_pca.loc[:, 'Label']"
   ],
   "id": "9c9eeea991685780",
   "outputs": [],
   "execution_count": 3
  },
  {
   "metadata": {
    "jupyter": {
     "is_executing": true
    },
    "ExecuteTime": {
     "start_time": "2024-04-23T20:23:35.823414Z"
    }
   },
   "cell_type": "code",
   "source": [
    "model_set = [\n",
    "    MLPClassifier(),\n",
    "    BaggingClassifier(n_jobs=-1),\n",
    "    AdaBoostClassifier(),\n",
    "    ExtraTreesClassifier(n_jobs=-1),\n",
    "    QuadraticDiscriminantAnalysis(),\n",
    "    RandomForestClassifier(n_jobs=-1),\n",
    "    GaussianNB(),\n",
    "    LogisticRegression(n_jobs=-1),\n",
    "    LinearDiscriminantAnalysis(),\n",
    "    GradientBoostingClassifier(),\n",
    "    DecisionTreeClassifier(),\n",
    "    SGDClassifier(n_jobs=-1),\n",
    "    KNeighborsClassifier(n_jobs=-1),\n",
    "    CatBoostClassifier(logging_level='Silent'),\n",
    "]\n",
    "\n",
    "def filter_parentheses(content):\n",
    "    # This regular expression matches content inside parentheses\n",
    "    regex = r'\\([^()]*\\)'\n",
    "    # Use a loop to handle nested parentheses\n",
    "    while re.search(regex, content):\n",
    "        content = re.sub(regex, '', content)\n",
    "    return content\n",
    "\n",
    "results = []\n",
    "names = [filter_parentheses(str(i)) for i in model_set] + [filter_parentheses(str(i)) + '_pca_dataset' for i in model_set]\n",
    "\n",
    "features = cp.asarray(data[['feature1', 'feature2']].values)\n",
    "target = cp.asarray(data['target'].values)\n",
    "\n",
    "for model in model_set:\n",
    "    kfold = KFold(n_splits=10, random_state=42, shuffle=True)\n",
    "    print(filter_parentheses(str(model)))\n",
    "    cv_results = cross_val_score(model,all_inputs, all_labels, cv=kfold, scoring='accuracy', n_jobs=-1)\n",
    "    print(cv_results)\n",
    "    results.append(cv_results)\n",
    "\n",
    "for model in model_set:\n",
    "    kfold = KFold(n_splits=10, random_state=42, shuffle=True)\n",
    "    print(filter_parentheses(str(model)) + \"_pca\")\n",
    "    cv_results = cross_val_score(model,all_inputs_pca, all_labels_pca, cv=kfold, scoring='accuracy', n_jobs=-1)\n",
    "    print(cv_results)\n",
    "    results.append(cv_results)\n",
    "\n",
    "print(results)\n",
    "plt.figure(figsize=(10,7))\n",
    "plt.boxplot(results, labels=names)\n",
    "plt.title('Algorithm Comparison')\n",
    "\n",
    "# swap the axes\n",
    "plt.xlabel('Algorithm')\n",
    "plt.ylabel('Accuracy')\n",
    "plt.xticks(rotation=90)\n",
    "\n",
    "plt.show()"
   ],
   "id": "3cd1f6cbcd47d57",
   "outputs": [
    {
     "name": "stdout",
     "output_type": "stream",
     "text": [
      "\n",
      "\n",
      "\n",
      "\n",
      "\n",
      "\n",
      "\n",
      "\n",
      "\n",
      "\n",
      "\n",
      "\n",
      "\n",
      "\n",
      "MLPClassifier_pca\n",
      "BaggingClassifier_pca\n",
      "AdaBoostClassifier_pca\n"
     ]
    }
   ],
   "execution_count": null
  },
  {
   "metadata": {
    "jupyter": {
     "is_executing": true
    }
   },
   "cell_type": "code",
   "source": [
    "X_train, X_test, y_train, y_test = train_test_split(all_inputs, all_labels, test_size=test_size, random_state=42)\n",
    "\n",
    "train_times = []\n",
    "decision_times = []\n",
    "model_names = []\n",
    "\n",
    "for model in model_set:\n",
    "    start_time = time()\n",
    "    model.fit(X_train, y_train)\n",
    "    train_times.append(time() - start_time)\n",
    "\n",
    "    start_time = time()\n",
    "    model.predict(X_test)\n",
    "    decision_times.append(time() - start_time)\n",
    "\n",
    "    model_names.append(filter_parentheses(str(model)))\n",
    "    \n",
    "X_train, X_test, y_train, y_test = train_test_split(all_inputs_pca, all_labels_pca, test_size=test_size, random_state=42)\n",
    "\n",
    "for model in model_set:\n",
    "    start_time = time()\n",
    "    model.fit(X_train, y_train)\n",
    "    train_times.append(time() - start_time)\n",
    "\n",
    "    start_time = time()\n",
    "    model.predict(X_test)\n",
    "    decision_times.append(time() - start_time)\n",
    "\n",
    "    model_names.append(filter_parentheses(str(model)))\n",
    "    \n",
    "fig, ax = plt.subplots(2, 1, figsize=(14, 10))\n",
    "ax[0].barh(model_names, train_times, color='blue')\n",
    "ax[0].set_title('Training Time Comparison')\n",
    "ax[0].set_xlabel('Time in seconds')\n",
    "\n",
    "ax[1].barh(model_names, decision_times, color='green')\n",
    "ax[1].set_title('Decision Time Comparison')\n",
    "ax[1].set_xlabel('Time in seconds')\n",
    "\n",
    "plt.tight_layout()\n",
    "plt.show()"
   ],
   "id": "471a4daf42b3eac0",
   "outputs": [],
   "execution_count": null
  }
 ],
 "metadata": {
  "kernelspec": {
   "display_name": "Python 3",
   "language": "python",
   "name": "python3"
  },
  "language_info": {
   "codemirror_mode": {
    "name": "ipython",
    "version": 2
   },
   "file_extension": ".py",
   "mimetype": "text/x-python",
   "name": "python",
   "nbconvert_exporter": "python",
   "pygments_lexer": "ipython2",
   "version": "2.7.6"
  }
 },
 "nbformat": 4,
 "nbformat_minor": 5
}
