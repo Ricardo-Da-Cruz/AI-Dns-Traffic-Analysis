{
 "cells": [
  {
   "metadata": {},
   "cell_type": "markdown",
   "source": [
    "# Jupyter notebook sample"
   ],
   "id": "8a77807f92f26ee"
  },
  {
   "metadata": {},
   "cell_type": "code",
   "source": [
    "import csv\n",
    "\n",
    "# Import libraries\n",
    "import pandas as pd\n",
    "import matplotlib.pyplot as plt\n",
    "import numpy as np\n",
    "import seaborn as sb\n",
    "from sklearn.preprocessing import StandardScaler\n",
    "from sklearn.decomposition import PCA"
   ],
   "id": "7df9140457caed5e",
   "outputs": [],
   "execution_count": null
  },
  {
   "metadata": {},
   "cell_type": "markdown",
   "source": [
    "### Import data\n",
    "\n",
    "# Read data from a csv file"
   ],
   "id": "2e44cfe2f556cba1"
  },
  {
   "metadata": {
    "collapsed": true
   },
   "cell_type": "code",
   "source": [
    "# Defining data for the dataframe\n",
    "# download from https://www.kaggle.com/datasets/supplejade/bccc-cira-cic-dohbrw-2020-dns-over-http/download?datasetVersionNumber=2\n",
    "# and unzip it to data folder\n",
    "\n",
    "df = pd.read_csv('data/BCCC-CIRA-CIC-DoHBrw-2020.csv', na_values=['NA'])\n",
    "\n",
    "def add_space(s):\n",
    "    a = s[0]\n",
    "    for i in s[1:]:\n",
    "        if i.isupper():\n",
    "            a += ' '\n",
    "        a += i\n",
    "    return a\n",
    "\n",
    "df.columns = [add_space(i.replace(' ', '')) for i in df.columns]\n",
    "\n",
    "df.describe()"
   ],
   "id": "initial_id",
   "outputs": [],
   "execution_count": null
  },
  {
   "metadata": {},
   "cell_type": "markdown",
   "source": [
    "### Data visualization\n",
    "\n"
   ],
   "id": "6a438b3c0400ee2"
  },
  {
   "metadata": {},
   "cell_type": "code",
   "source": [
    "df_subset = df.iloc[:1000, :]\n",
    "df_subset.replace([np.inf, -np.inf], np.nan)\n",
    "\n",
    "# 28 columns\n",
    "\n",
    "fig = plt.figure(figsize=(30, 30))\n",
    "\n",
    "for i in df_subset.columns[:-1]:\n",
    "    plt.subplot(4,7, list(df_subset.columns).index(i) + 1)\n",
    "    sb.kdeplot(data=df_subset, x=i, hue='Label', fill=True)\n",
    "\n",
    "\n",
    "plt.show()\n",
    "    "
   ],
   "id": "990a541564843926",
   "outputs": [],
   "execution_count": null
  },
  {
   "metadata": {},
   "cell_type": "code",
   "source": [
    "palette = sb.color_palette(\"tab10\", n_colors=2)  # Choose a suitable palette\n",
    "colormap = sb.color_palette(\"tab10\", as_cmap=True)  # Get the colormap\n",
    "\n",
    "# Convert the colormap to a list of colors\n",
    "colors = [colormap(i) for i in range(len(palette))]\n",
    "\n",
    "for i in df_subset.columns[:-1]:\n",
    "    fig = plt.figure(figsize=(16, 7*3+1))\n",
    "    plt.title(i)\n",
    "    \n",
    "    for j in df_subset.columns[:-1]:\n",
    "        \n",
    "        plt.subplot(7,4, list(df_subset.columns).index(j) + 1)\n",
    "        if i == j:\n",
    "            sb.kdeplot(data=df_subset, x=i, hue='Label', fill=True, palette=colors)\n",
    "        else:\n",
    "            sb.scatterplot(data=df_subset, x=i, y=j, hue='Label', palette=colors)\n",
    "    \n",
    "    print(f'Done with {i}')\n",
    "    plt.tight_layout()\n",
    "    \n",
    "    handles, labels = plt.gca().get_legend_handles_labels()\n",
    "    plt.figlegend(handles, labels, loc='lower center', ncol=len(colors), title='Label', bbox_to_anchor=(0.5, -0.02))\n",
    "    plt.tight_layout()\n",
    "    \n",
    "    plt.savefig(f'plots/{i}.png')\n",
    "    plt.close()"
   ],
   "id": "605a5fa386a2645b",
   "outputs": [],
   "execution_count": null
  },
  {
   "metadata": {},
   "cell_type": "code",
   "source": [
    "X = df.drop('Label', axis=1)\n",
    "\n",
    "scaler = StandardScaler()\n",
    "scaled_data = scaler.fit_transform(X)\n",
    "\n",
    "pca = PCA(n_components=9)\n",
    "pca.fit(scaled_data)\n",
    "\n",
    "pca_data = pca.transform(scaled_data)\n",
    "\n",
    "pca_df = pd.DataFrame(pca_data, columns=[f\"PC{i}\" for i in range(1, pca_data.shape[1] + 1)])\n",
    "\n",
    "data_pca = pd.concat([pca_df, df['Label']], axis=1)\n",
    "\n",
    "data_pca.to_csv('data/data_pca.csv')\n",
    "\n",
    "data_pca"
   ],
   "id": "4fc63d09e7a3dfb4",
   "outputs": [],
   "execution_count": null
  },
  {
   "metadata": {},
   "cell_type": "code",
   "source": [
    "g = sb.PairGrid(data_pca.iloc[:1000][:], hue=\"Label\")\n",
    "g.map_diag(plt.hist)\n",
    "g.map_lower(plt.scatter)\n",
    "g.map_upper(sb.kdeplot)\n",
    "\n",
    "g.add_legend()\n",
    "\n",
    "for ax in g.axes.flatten():\n",
    "    # rotate x axis labels\n",
    "    ax.set_xlabel(ax.get_xlabel(), rotation = 90)\n",
    "    # rotate y axis labels\n",
    "    ax.set_ylabel(ax.get_ylabel(), rotation = 0)\n",
    "    # set y labels alignment\n",
    "    ax.yaxis.get_label().set_horizontalalignment('right')\n",
    "\n",
    "plt.show()"
   ],
   "id": "751476806823f199",
   "outputs": [],
   "execution_count": null
  },
  {
   "metadata": {},
   "cell_type": "code",
   "source": [
    "# SVD\n",
    "from sklearn.decomposition import TruncatedSVD\n",
    "from sklearn.preprocessing import StandardScaler\n",
    "\n",
    "# Assuming 'df' is your pandas DataFrame\n",
    "# Separate features (X) and labels (y)\n",
    "X = df.iloc[:, :-1]  # Features\n",
    "y = df.iloc[:, -1]   # Labels\n",
    "\n",
    "# Optional: Standardize features\n",
    "scaler = StandardScaler()\n",
    "X_scaled = scaler.fit_transform(X)\n",
    "\n",
    "# Apply SVD\n",
    "n_components = 9  # Choose the number of components\n",
    "svd = TruncatedSVD(n_components=n_components)\n",
    "data_svd = svd.fit_transform(X_scaled)\n",
    "\n",
    "data_svd = pd.DataFrame(data_svd, columns=[f\"PC{i}\" for i in range(1, n_components + 1)])\n",
    "data_svd = pd.concat([data_svd, y], axis=1)\n",
    "\n",
    "data_svd.to_csv('data/data_svd.csv', index=False)\n",
    "\n",
    "data_svd"
   ],
   "id": "d47c11da23c78291",
   "outputs": [],
   "execution_count": null
  },
  {
   "metadata": {},
   "cell_type": "markdown",
   "source": "### Split data into training and testing sets",
   "id": "6443c2c9cdd5cb6d"
  },
  {
   "metadata": {},
   "cell_type": "code",
   "source": [
    "from sklearn.model_selection import train_test_split\n",
    "\n",
    "all_inputs = data_pca.iloc[:, :9]\n",
    "all_labels = data_pca.loc[:, 'Label']\n",
    "\n",
    "(training_inputs,\n",
    " testing_inputs,\n",
    " training_classes,\n",
    " testing_classes) = train_test_split(all_inputs, all_labels, test_size=0.25, random_state=1)"
   ],
   "id": "1cda9b4965eac017",
   "outputs": [],
   "execution_count": null
  },
  {
   "metadata": {},
   "cell_type": "code",
   "source": [
    "from sklearn.metrics import confusion_matrix\n",
    "from sklearn.tree import DecisionTreeClassifier\n",
    "from sklearn.tree import plot_tree\n",
    "\n",
    "# Create the classifier\n",
    "decision_tree_classifier = DecisionTreeClassifier()\n",
    "\n",
    "# Train the classifier on the training set\n",
    "decision_tree_classifier.fit(training_inputs, training_classes)\n",
    "\n",
    "# print the score\n",
    "print(decision_tree_classifier.score(testing_inputs, testing_classes))\n",
    "\n",
    "# Get the predictions\n",
    "predictions = decision_tree_classifier.predict(testing_inputs)\n",
    "\n",
    "conf_matrix = confusion_matrix(testing_classes, predictions)\n",
    "\n",
    "# Step 4: Extract TP, TN, FP, FN\n",
    "TN = conf_matrix[0, 0]\n",
    "FP = conf_matrix[0, 1]\n",
    "FN = conf_matrix[1, 0]\n",
    "TP = conf_matrix[1, 1]\n",
    "\n",
    "# Print the values\n",
    "print(\"True Negatives (TN):\", TN)\n",
    "print(\"True Positives (TP):\", TP)\n",
    "print(\"False Negatives (FN):\", FN)\n",
    "print(\"False Positives (FP):\", FP)\n",
    "\n",
    "# Visualize the tree\n",
    "plt.figure(figsize=(30, 30))\n",
    "plot_tree(decision_tree_classifier, filled=True, feature_names=all_inputs.columns)\n",
    "plt.show()"
   ],
   "id": "2946e9ff55773cd7",
   "outputs": [],
   "execution_count": null
  }
 ],
 "metadata": {
  "kernelspec": {
   "display_name": "Python 3",
   "language": "python",
   "name": "python3"
  },
  "language_info": {
   "codemirror_mode": {
    "name": "ipython",
    "version": 2
   },
   "file_extension": ".py",
   "mimetype": "text/x-python",
   "name": "python",
   "nbconvert_exporter": "python",
   "pygments_lexer": "ipython2",
   "version": "2.7.6"
  }
 },
 "nbformat": 4,
 "nbformat_minor": 5
}
